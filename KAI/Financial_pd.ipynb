{
 "cells": [
  {
   "cell_type": "code",
   "execution_count": 1,
   "id": "e849483a-818d-4004-a7ab-a7b8a65d7a68",
   "metadata": {},
   "outputs": [],
   "source": [
    "import numpy as np\n",
    "import pandas as pd\n",
    "from matplotlib import pyplot as plt"
   ]
  },
  {
   "cell_type": "code",
   "execution_count": 3,
   "id": "75b90b20-0774-4c12-9e9e-73e160709d64",
   "metadata": {},
   "outputs": [],
   "source": [
    "df = pd.read_csv('Financial_Consumer_Complaints.csv')"
   ]
  },
  {
   "cell_type": "code",
   "execution_count": 4,
   "id": "74b32168-1b45-4dec-88b1-443b9c7f4bc3",
   "metadata": {},
   "outputs": [
    {
     "data": {
      "text/html": [
       "<div>\n",
       "<style scoped>\n",
       "    .dataframe tbody tr th:only-of-type {\n",
       "        vertical-align: middle;\n",
       "    }\n",
       "\n",
       "    .dataframe tbody tr th {\n",
       "        vertical-align: top;\n",
       "    }\n",
       "\n",
       "    .dataframe thead th {\n",
       "        text-align: right;\n",
       "    }\n",
       "</style>\n",
       "<table border=\"1\" class=\"dataframe\">\n",
       "  <thead>\n",
       "    <tr style=\"text-align: right;\">\n",
       "      <th></th>\n",
       "      <th>Complaint ID</th>\n",
       "      <th>Date Sumbited</th>\n",
       "      <th>Product</th>\n",
       "      <th>Sub-product</th>\n",
       "      <th>Issue</th>\n",
       "      <th>Sub-issue</th>\n",
       "      <th>Company public response</th>\n",
       "      <th>Company</th>\n",
       "      <th>State</th>\n",
       "      <th>ZIP code</th>\n",
       "      <th>Tags</th>\n",
       "      <th>Consumer consent provided?</th>\n",
       "      <th>Submitted via</th>\n",
       "      <th>Date Received</th>\n",
       "      <th>Company response to consumer</th>\n",
       "      <th>Timely response?</th>\n",
       "      <th>Consumer disputed?</th>\n",
       "    </tr>\n",
       "  </thead>\n",
       "  <tbody>\n",
       "    <tr>\n",
       "      <th>0</th>\n",
       "      <td>2824926</td>\n",
       "      <td>2/24/18</td>\n",
       "      <td>Credit card or prepaid card</td>\n",
       "      <td>General-purpose credit card or charge card</td>\n",
       "      <td>Closing your account</td>\n",
       "      <td>Company closed your account</td>\n",
       "      <td>NaN</td>\n",
       "      <td>Cumulus Financial</td>\n",
       "      <td>FL</td>\n",
       "      <td>33179</td>\n",
       "      <td>NaN</td>\n",
       "      <td>Consent not provided</td>\n",
       "      <td>Web</td>\n",
       "      <td>2/24/18</td>\n",
       "      <td>Closed with explanation</td>\n",
       "      <td>Yes</td>\n",
       "      <td>NaN</td>\n",
       "    </tr>\n",
       "    <tr>\n",
       "      <th>1</th>\n",
       "      <td>1515991</td>\n",
       "      <td>8/12/15</td>\n",
       "      <td>Debt collection</td>\n",
       "      <td>Credit card</td>\n",
       "      <td>Improper contact or sharing of info</td>\n",
       "      <td>Contacted employer after asked not to</td>\n",
       "      <td>NaN</td>\n",
       "      <td>Cumulus Financial</td>\n",
       "      <td>CA</td>\n",
       "      <td>93561</td>\n",
       "      <td>NaN</td>\n",
       "      <td>Consent not provided</td>\n",
       "      <td>Web</td>\n",
       "      <td>8/12/15</td>\n",
       "      <td>Closed with explanation</td>\n",
       "      <td>Yes</td>\n",
       "      <td>No</td>\n",
       "    </tr>\n",
       "    <tr>\n",
       "      <th>2</th>\n",
       "      <td>1145261</td>\n",
       "      <td>12/5/14</td>\n",
       "      <td>Bank account or service</td>\n",
       "      <td>Checking account</td>\n",
       "      <td>Deposits and withdrawals</td>\n",
       "      <td>\"\"</td>\n",
       "      <td>NaN</td>\n",
       "      <td>Cumulus Financial</td>\n",
       "      <td>CA</td>\n",
       "      <td>91792</td>\n",
       "      <td>NaN</td>\n",
       "      <td>NaN</td>\n",
       "      <td>Referral</td>\n",
       "      <td>12/8/14</td>\n",
       "      <td>Closed with explanation</td>\n",
       "      <td>Yes</td>\n",
       "      <td>No</td>\n",
       "    </tr>\n",
       "  </tbody>\n",
       "</table>\n",
       "</div>"
      ],
      "text/plain": [
       "   Complaint ID Date Sumbited                      Product  \\\n",
       "0       2824926       2/24/18  Credit card or prepaid card   \n",
       "1       1515991       8/12/15              Debt collection   \n",
       "2       1145261       12/5/14      Bank account or service   \n",
       "\n",
       "                                  Sub-product  \\\n",
       "0  General-purpose credit card or charge card   \n",
       "1                                 Credit card   \n",
       "2                            Checking account   \n",
       "\n",
       "                                 Issue                              Sub-issue  \\\n",
       "0                 Closing your account            Company closed your account   \n",
       "1  Improper contact or sharing of info  Contacted employer after asked not to   \n",
       "2             Deposits and withdrawals                                     \"\"   \n",
       "\n",
       "  Company public response            Company State ZIP code Tags  \\\n",
       "0                     NaN  Cumulus Financial    FL    33179  NaN   \n",
       "1                     NaN  Cumulus Financial    CA    93561  NaN   \n",
       "2                     NaN  Cumulus Financial    CA    91792  NaN   \n",
       "\n",
       "  Consumer consent provided? Submitted via Date Received  \\\n",
       "0       Consent not provided           Web       2/24/18   \n",
       "1       Consent not provided           Web       8/12/15   \n",
       "2                        NaN      Referral       12/8/14   \n",
       "\n",
       "  Company response to consumer Timely response? Consumer disputed?  \n",
       "0      Closed with explanation              Yes                NaN  \n",
       "1      Closed with explanation              Yes                 No  \n",
       "2      Closed with explanation              Yes                 No  "
      ]
     },
     "execution_count": 4,
     "metadata": {},
     "output_type": "execute_result"
    }
   ],
   "source": [
    "df.head(3)"
   ]
  },
  {
   "cell_type": "markdown",
   "id": "e7b7d2eb-8c7d-457b-9659-9cd357cc06b3",
   "metadata": {},
   "source": [
    "# Q1. Which Product has the most of the complaints? State top five with Count"
   ]
  },
  {
   "cell_type": "code",
   "execution_count": 7,
   "id": "6d7831a8-960d-4163-aafd-3ac2bf840394",
   "metadata": {},
   "outputs": [
    {
     "data": {
      "text/plain": [
       "Product\n",
       "Credit card                    19176\n",
       "Checking or savings account    13436\n",
       "Mortgage                       12470\n",
       "Credit card or prepaid card    10241\n",
       "Bank account or service         9893\n",
       "Name: Complaint ID, dtype: int64"
      ]
     },
     "execution_count": 7,
     "metadata": {},
     "output_type": "execute_result"
    }
   ],
   "source": [
    "q1 = df.groupby('Product')['Complaint ID'].agg('count').sort_values(ascending = False)\n",
    "q1.head(5)"
   ]
  },
  {
   "cell_type": "markdown",
   "id": "541fff12-1b1e-40c8-88c6-37316475ebe1",
   "metadata": {},
   "source": [
    "# Q2. What kind of Issues Distinct Issues are present in Mortgage Product?"
   ]
  },
  {
   "cell_type": "code",
   "execution_count": 11,
   "id": "530e819c-d07b-47c3-88e1-4e792bcfa0f9",
   "metadata": {},
   "outputs": [
    {
     "data": {
      "text/plain": [
       "array(['Trouble during payment process', 'Struggling to pay mortgage',\n",
       "       'Settlement process and costs', 'Closing on a mortgage',\n",
       "       'Credit decision / Underwriting', 'Other',\n",
       "       'Applying for a mortgage or refinancing an existing mortgage',\n",
       "       'Improper use of your report',\n",
       "       'Incorrect information on your report',\n",
       "       \"Problem with a credit reporting company's investigation into an existing problem\",\n",
       "       'Credit monitoring or identity theft protection services',\n",
       "       'Unable to get your credit report or credit score',\n",
       "       'Problem with fraud alerts or security freezes'], dtype=object)"
      ]
     },
     "execution_count": 11,
     "metadata": {},
     "output_type": "execute_result"
    }
   ],
   "source": [
    "q2 = df[df['Product'] == 'Mortgage']['Issue'].unique()\n",
    "q2"
   ]
  },
  {
   "cell_type": "markdown",
   "id": "a98b9618-7579-420a-8d7d-dc345e901ff7",
   "metadata": {},
   "source": [
    "# Q3. Which State has the most complaints for Credit Card? And how many were timely closed?"
   ]
  },
  {
   "cell_type": "code",
   "execution_count": 14,
   "id": "27f1eeb9-aba1-4985-8dd9-c9f824f636c9",
   "metadata": {},
   "outputs": [
    {
     "data": {
      "text/html": [
       "<div>\n",
       "<style scoped>\n",
       "    .dataframe tbody tr th:only-of-type {\n",
       "        vertical-align: middle;\n",
       "    }\n",
       "\n",
       "    .dataframe tbody tr th {\n",
       "        vertical-align: top;\n",
       "    }\n",
       "\n",
       "    .dataframe thead th {\n",
       "        text-align: right;\n",
       "    }\n",
       "</style>\n",
       "<table border=\"1\" class=\"dataframe\">\n",
       "  <thead>\n",
       "    <tr style=\"text-align: right;\">\n",
       "      <th></th>\n",
       "      <th>Complaint ID</th>\n",
       "      <th>Date Sumbited</th>\n",
       "      <th>Product</th>\n",
       "      <th>Sub-product</th>\n",
       "      <th>Issue</th>\n",
       "      <th>Sub-issue</th>\n",
       "      <th>Company public response</th>\n",
       "      <th>Company</th>\n",
       "      <th>State</th>\n",
       "      <th>ZIP code</th>\n",
       "      <th>Tags</th>\n",
       "      <th>Consumer consent provided?</th>\n",
       "      <th>Submitted via</th>\n",
       "      <th>Date Received</th>\n",
       "      <th>Company response to consumer</th>\n",
       "      <th>Timely response?</th>\n",
       "      <th>Consumer disputed?</th>\n",
       "    </tr>\n",
       "  </thead>\n",
       "  <tbody>\n",
       "    <tr>\n",
       "      <th>0</th>\n",
       "      <td>2824926</td>\n",
       "      <td>2/24/18</td>\n",
       "      <td>Credit card or prepaid card</td>\n",
       "      <td>General-purpose credit card or charge card</td>\n",
       "      <td>Closing your account</td>\n",
       "      <td>Company closed your account</td>\n",
       "      <td>NaN</td>\n",
       "      <td>Cumulus Financial</td>\n",
       "      <td>FL</td>\n",
       "      <td>33179</td>\n",
       "      <td>NaN</td>\n",
       "      <td>Consent not provided</td>\n",
       "      <td>Web</td>\n",
       "      <td>2/24/18</td>\n",
       "      <td>Closed with explanation</td>\n",
       "      <td>Yes</td>\n",
       "      <td>NaN</td>\n",
       "    </tr>\n",
       "  </tbody>\n",
       "</table>\n",
       "</div>"
      ],
      "text/plain": [
       "   Complaint ID Date Sumbited                      Product  \\\n",
       "0       2824926       2/24/18  Credit card or prepaid card   \n",
       "\n",
       "                                  Sub-product                 Issue  \\\n",
       "0  General-purpose credit card or charge card  Closing your account   \n",
       "\n",
       "                     Sub-issue Company public response            Company  \\\n",
       "0  Company closed your account                     NaN  Cumulus Financial   \n",
       "\n",
       "  State ZIP code Tags Consumer consent provided? Submitted via Date Received  \\\n",
       "0    FL    33179  NaN       Consent not provided           Web       2/24/18   \n",
       "\n",
       "  Company response to consumer Timely response? Consumer disputed?  \n",
       "0      Closed with explanation              Yes                NaN  "
      ]
     },
     "execution_count": 14,
     "metadata": {},
     "output_type": "execute_result"
    }
   ],
   "source": [
    "df.head(1)"
   ]
  },
  {
   "cell_type": "code",
   "execution_count": 18,
   "id": "687dc6c5-57be-4a65-b349-5a8896c14502",
   "metadata": {
    "tags": []
   },
   "outputs": [
    {
     "data": {
      "text/plain": [
       "State\n",
       "CA    4305\n",
       "Name: Complaint ID, dtype: int64"
      ]
     },
     "execution_count": 18,
     "metadata": {},
     "output_type": "execute_result"
    }
   ],
   "source": [
    "q3 = df[ df['Product'].str.lower().str.contains('credit card')]\n",
    "q3_1 = q3.groupby('State')['Complaint ID'].agg('count').sort_values(ascending = False)\n",
    "q3_1.head(1)"
   ]
  },
  {
   "cell_type": "code",
   "execution_count": 19,
   "id": "5b3c20be-20de-4963-9e48-77400f2172d6",
   "metadata": {},
   "outputs": [
    {
     "data": {
      "text/plain": [
       "State\n",
       "CA    4248\n",
       "Name: Complaint ID, dtype: int64"
      ]
     },
     "execution_count": 19,
     "metadata": {},
     "output_type": "execute_result"
    }
   ],
   "source": [
    "q3_2 = q3[ q3['Timely response?'] == 'Yes' ].groupby('State')['Complaint ID'].agg('count').sort_values(ascending = False)\n",
    "q3_2.head(1)"
   ]
  },
  {
   "cell_type": "markdown",
   "id": "e2c2a988-a7a4-4d42-85b0-e2038e86bfab",
   "metadata": {},
   "source": [
    "# Q4. Summarize # of complaints received from sources (web, post) from state of New York NY only?"
   ]
  },
  {
   "cell_type": "code",
   "execution_count": 28,
   "id": "d26a9d70-d39f-4f77-b6e7-b2dd6f85dcb5",
   "metadata": {},
   "outputs": [
    {
     "data": {
      "text/plain": [
       "Submitted via\n",
       "Web            3251\n",
       "Referral       2265\n",
       "Phone           702\n",
       "Postal mail     517\n",
       "Fax             105\n",
       "Email             1\n",
       "Name: Complaint ID, dtype: int64"
      ]
     },
     "execution_count": 28,
     "metadata": {},
     "output_type": "execute_result"
    }
   ],
   "source": [
    "q4 = df[ (df['State'] == 'NY')].groupby('Submitted via')['Complaint ID'].agg('count').sort_values(ascending = False)\n",
    "q4"
   ]
  },
  {
   "cell_type": "markdown",
   "id": "4b84c95c-3847-45df-8b57-03016506185d",
   "metadata": {},
   "source": [
    "# Q5. What is the popular company response to complaints by number of complaints?"
   ]
  },
  {
   "cell_type": "code",
   "execution_count": 30,
   "id": "c734e9eb-6b2b-4a53-b722-924e8ab9da88",
   "metadata": {},
   "outputs": [
    {
     "data": {
      "text/plain": [
       "Company response to consumer\n",
       "Closed with explanation            54666\n",
       "Closed with monetary relief        11693\n",
       "Closed with non-monetary relief     5912\n",
       "Closed without relief               1779\n",
       "Closed with relief                   938\n",
       "In progress                          283\n",
       "Closed                               241\n",
       "Untimely response                      1\n",
       "Name: Complaint ID, dtype: int64"
      ]
     },
     "execution_count": 30,
     "metadata": {},
     "output_type": "execute_result"
    }
   ],
   "source": [
    "q5 = df.groupby('Company response to consumer')['Complaint ID'].agg('count').sort_values(ascending = False)\n",
    "q5"
   ]
  },
  {
   "cell_type": "markdown",
   "id": "d5d090be-10ef-4cf8-bd40-113c0ff2ed16",
   "metadata": {},
   "source": [
    "# Q6. How many complaints were timely resolved and provide breakup by both timely resolve & consumer dispute status?"
   ]
  },
  {
   "cell_type": "code",
   "execution_count": 35,
   "id": "9aecd5d8-ac95-418b-a1c9-c447c3a91a3a",
   "metadata": {},
   "outputs": [
    {
     "data": {
      "text/plain": [
       "Timely response?  Consumer disputed?\n",
       "Yes               NaN                   36312\n",
       "                  No                    30473\n",
       "                  Yes                    7259\n",
       "No                No                      730\n",
       "                  NaN                     635\n",
       "                  Yes                     104\n",
       "Name: Complaint ID, dtype: int64"
      ]
     },
     "execution_count": 35,
     "metadata": {},
     "output_type": "execute_result"
    }
   ],
   "source": [
    "q6 = df.groupby(['Timely response?', 'Consumer disputed?'], dropna=False)['Complaint ID'].agg('count').sort_values(ascending = False)\n",
    "q6"
   ]
  },
  {
   "cell_type": "code",
   "execution_count": 31,
   "id": "c08682da-3799-49ca-8d3a-ba9d7ff0b4c1",
   "metadata": {},
   "outputs": [
    {
     "data": {
      "text/html": [
       "<div>\n",
       "<style scoped>\n",
       "    .dataframe tbody tr th:only-of-type {\n",
       "        vertical-align: middle;\n",
       "    }\n",
       "\n",
       "    .dataframe tbody tr th {\n",
       "        vertical-align: top;\n",
       "    }\n",
       "\n",
       "    .dataframe thead th {\n",
       "        text-align: right;\n",
       "    }\n",
       "</style>\n",
       "<table border=\"1\" class=\"dataframe\">\n",
       "  <thead>\n",
       "    <tr style=\"text-align: right;\">\n",
       "      <th></th>\n",
       "      <th>Complaint ID</th>\n",
       "      <th>Date Sumbited</th>\n",
       "      <th>Product</th>\n",
       "      <th>Sub-product</th>\n",
       "      <th>Issue</th>\n",
       "      <th>Sub-issue</th>\n",
       "      <th>Company public response</th>\n",
       "      <th>Company</th>\n",
       "      <th>State</th>\n",
       "      <th>ZIP code</th>\n",
       "      <th>Tags</th>\n",
       "      <th>Consumer consent provided?</th>\n",
       "      <th>Submitted via</th>\n",
       "      <th>Date Received</th>\n",
       "      <th>Company response to consumer</th>\n",
       "      <th>Timely response?</th>\n",
       "      <th>Consumer disputed?</th>\n",
       "    </tr>\n",
       "  </thead>\n",
       "  <tbody>\n",
       "    <tr>\n",
       "      <th>0</th>\n",
       "      <td>2824926</td>\n",
       "      <td>2/24/18</td>\n",
       "      <td>Credit card or prepaid card</td>\n",
       "      <td>General-purpose credit card or charge card</td>\n",
       "      <td>Closing your account</td>\n",
       "      <td>Company closed your account</td>\n",
       "      <td>NaN</td>\n",
       "      <td>Cumulus Financial</td>\n",
       "      <td>FL</td>\n",
       "      <td>33179</td>\n",
       "      <td>NaN</td>\n",
       "      <td>Consent not provided</td>\n",
       "      <td>Web</td>\n",
       "      <td>2/24/18</td>\n",
       "      <td>Closed with explanation</td>\n",
       "      <td>Yes</td>\n",
       "      <td>NaN</td>\n",
       "    </tr>\n",
       "  </tbody>\n",
       "</table>\n",
       "</div>"
      ],
      "text/plain": [
       "   Complaint ID Date Sumbited                      Product  \\\n",
       "0       2824926       2/24/18  Credit card or prepaid card   \n",
       "\n",
       "                                  Sub-product                 Issue  \\\n",
       "0  General-purpose credit card or charge card  Closing your account   \n",
       "\n",
       "                     Sub-issue Company public response            Company  \\\n",
       "0  Company closed your account                     NaN  Cumulus Financial   \n",
       "\n",
       "  State ZIP code Tags Consumer consent provided? Submitted via Date Received  \\\n",
       "0    FL    33179  NaN       Consent not provided           Web       2/24/18   \n",
       "\n",
       "  Company response to consumer Timely response? Consumer disputed?  \n",
       "0      Closed with explanation              Yes                NaN  "
      ]
     },
     "execution_count": 31,
     "metadata": {},
     "output_type": "execute_result"
    }
   ],
   "source": [
    "df.head(1)"
   ]
  },
  {
   "cell_type": "markdown",
   "id": "e1fcb0ce-b791-4472-90fd-421cfb069825",
   "metadata": {},
   "source": [
    "# Q7. Which is the most popular year for complaints related to “Vehicle loan or lease”?"
   ]
  },
  {
   "cell_type": "code",
   "execution_count": 42,
   "id": "4a708f8e-277f-4158-8152-785a2aba34e4",
   "metadata": {},
   "outputs": [
    {
     "data": {
      "text/plain": [
       "year\n",
       "2018    351\n",
       "2019    266\n",
       "2020    245\n",
       "2017    208\n",
       "Name: Complaint ID, dtype: int64"
      ]
     },
     "execution_count": 42,
     "metadata": {},
     "output_type": "execute_result"
    }
   ],
   "source": [
    "q7_0 = df.copy()\n",
    "q7_0['year'] = pd.DatetimeIndex(pd.to_datetime(q7_0['Date Sumbited'])).year\n",
    "q7 = q7_0[q7_0['Product'] == 'Vehicle loan or lease'].groupby('year')['Complaint ID'].agg('count').sort_values(ascending= False)\n",
    "q7"
   ]
  },
  {
   "cell_type": "markdown",
   "id": "f7104316-e6be-48c6-aa03-43487980277d",
   "metadata": {},
   "source": [
    "# Q8. What is the average gap in number of days between complaints submitted and complaint received for the post mail?"
   ]
  },
  {
   "cell_type": "code",
   "execution_count": 95,
   "id": "85599288-d335-46e3-b4aa-b6f53b1f1701",
   "metadata": {},
   "outputs": [
    {
     "data": {
      "text/plain": [
       "2.6002651013065705"
      ]
     },
     "execution_count": 95,
     "metadata": {},
     "output_type": "execute_result"
    }
   ],
   "source": [
    "q8_0 = df.copy()\n",
    "q8_0['gap_in_days'] = pd.DatetimeIndex(pd.to_datetime(q8_0['Date Received'])).dayofyear  - pd.DatetimeIndex(pd.to_datetime(q8_0['Date Sumbited'])).dayofyear\n",
    "q8_0 = q8_0[ q8_0['gap_in_days'] >= 0]\n",
    "q8 = q8_0[ q8_0['Submitted via'].str.lower().str.contains('post')]['gap_in_days'].agg('mean')\n",
    "q8"
   ]
  },
  {
   "cell_type": "code",
   "execution_count": 96,
   "id": "ae65d6ea-b0ac-4ec2-9f4c-cb3197c5400a",
   "metadata": {},
   "outputs": [
    {
     "data": {
      "text/plain": [
       "Submitted via\n",
       "Email          5.550000\n",
       "Fax            2.584769\n",
       "Phone          2.381676\n",
       "Postal mail    2.600265\n",
       "Referral       4.639481\n",
       "Web            1.250414\n",
       "Name: gap_in_days, dtype: float64"
      ]
     },
     "execution_count": 96,
     "metadata": {},
     "output_type": "execute_result"
    }
   ],
   "source": [
    "q8_2 = q8_0.groupby('Submitted via')['gap_in_days'].agg('mean')\n",
    "q8_2"
   ]
  },
  {
   "cell_type": "code",
   "execution_count": 109,
   "id": "18aa6bb4-bbfb-494e-a8b5-ba0a56417f3e",
   "metadata": {},
   "outputs": [
    {
     "data": {
      "text/plain": [
       "Submitted via\n",
       "Email          5.550000\n",
       "Fax            2.584769\n",
       "Phone          2.508057\n",
       "Postal mail    2.807802\n",
       "Referral       4.656018\n",
       "Web            1.260170\n",
       "Name: gap_in_days, dtype: float64"
      ]
     },
     "execution_count": 109,
     "metadata": {},
     "output_type": "execute_result"
    }
   ],
   "source": [
    "q8_3 = df.copy()\n",
    "q8_3['gap_in_days'] = (pd.to_datetime(q8_0['Date Received']) - pd.to_datetime(q8_0['Date Sumbited'])).dt.days\n",
    "q8_3 = q8_3[ q8_3['gap_in_days'] >= 0]\n",
    "q8_4 = q8_3.groupby('Submitted via')['gap_in_days'].agg('mean')\n",
    "\n",
    "q8_4"
   ]
  },
  {
   "cell_type": "markdown",
   "id": "f4796494-14d9-42e2-a881-dd0a27b36686",
   "metadata": {},
   "source": [
    "# Q9. Which complaints have not been resolved till date. What is the minimum and maximum no. of days passed from submission date?"
   ]
  },
  {
   "cell_type": "code",
   "execution_count": null,
   "id": "fa3f6cbc-b065-47ba-bd7f-6624e3a60e7d",
   "metadata": {},
   "outputs": [],
   "source": []
  }
 ],
 "metadata": {
  "kernelspec": {
   "display_name": "Python 3.9 (tensorflow)",
   "language": "python",
   "name": "tensorflow"
  },
  "language_info": {
   "codemirror_mode": {
    "name": "ipython",
    "version": 3
   },
   "file_extension": ".py",
   "mimetype": "text/x-python",
   "name": "python",
   "nbconvert_exporter": "python",
   "pygments_lexer": "ipython3",
   "version": "3.9.7"
  }
 },
 "nbformat": 4,
 "nbformat_minor": 5
}
