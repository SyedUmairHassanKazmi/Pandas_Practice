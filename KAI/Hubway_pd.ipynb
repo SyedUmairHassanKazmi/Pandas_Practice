{
 "cells": [
  {
   "cell_type": "code",
   "execution_count": 1,
   "id": "0f5c8e81-6742-4421-97f3-131d6c06054f",
   "metadata": {},
   "outputs": [],
   "source": [
    "import numpy as np\n",
    "import pandas as pd\n",
    "from matplotlib import pyplot as plt"
   ]
  },
  {
   "cell_type": "code",
   "execution_count": 2,
   "id": "f4afd242-6632-497b-a432-051f82adbd6a",
   "metadata": {},
   "outputs": [],
   "source": [
    "dfs = pd.read_csv('stations.csv')\n",
    "dft = pd.read_csv('trips.csv')"
   ]
  },
  {
   "cell_type": "markdown",
   "id": "734507e5-6c7f-4837-ad53-e1d939b306cb",
   "metadata": {},
   "source": [
    "# Q1. What was the duration of the longest trip? What was the average trip duration? What was the smallest trip duration?"
   ]
  },
  {
   "cell_type": "code",
   "execution_count": 3,
   "id": "e185c71b-fbb9-4b23-b93c-4436d42fed1b",
   "metadata": {},
   "outputs": [
    {
     "name": "stdout",
     "output_type": "stream",
     "text": [
      "Max = 9999, Min = 0, Avg = 912.4096819046612\n"
     ]
    }
   ],
   "source": [
    "q1_max = dft['duration'].agg('max')\n",
    "q1_min = dft['duration'].agg('min')\n",
    "q1_avg = dft['duration'].agg('mean') \n",
    "print(f'Max = {q1_max}, Min = {q1_min}, Avg = {q1_avg}')"
   ]
  },
  {
   "cell_type": "markdown",
   "id": "29aaf04c-df95-428f-b59e-9ccef38d26f4",
   "metadata": {},
   "source": [
    "# Q2. How many trips were taken by 'Registered' users?"
   ]
  },
  {
   "cell_type": "code",
   "execution_count": 4,
   "id": "738b8bf5-16ff-4573-b714-f157c9bb492e",
   "metadata": {},
   "outputs": [
    {
     "data": {
      "text/plain": [
       "1105192"
      ]
     },
     "execution_count": 4,
     "metadata": {},
     "output_type": "execute_result"
    }
   ],
   "source": [
    "q2 = dft[dft['sub_type'] == 'Registered']['id'].agg('count')\n",
    "q2"
   ]
  },
  {
   "cell_type": "markdown",
   "id": "395dd8a9-a51b-47fa-a9bb-07d6bed179ea",
   "metadata": {},
   "source": [
    "# Q3. How many trips were taken by male users in comparison to Female users? for Registered users only"
   ]
  },
  {
   "cell_type": "code",
   "execution_count": 5,
   "id": "865b3628-1d40-48a9-8706-236684d01639",
   "metadata": {},
   "outputs": [
    {
     "data": {
      "text/plain": [
       "gender\n",
       "Female      271333\n",
       "Female\\n         1\n",
       "Male        833858\n",
       "Name: id, dtype: int64"
      ]
     },
     "execution_count": 5,
     "metadata": {},
     "output_type": "execute_result"
    }
   ],
   "source": [
    "q3 = dft[dft['sub_type'] == 'Registered'].groupby('gender')['id'].agg('count')\n",
    "q3"
   ]
  },
  {
   "cell_type": "markdown",
   "id": "1afd8212-3340-436f-b1b2-a748cdf7f184",
   "metadata": {},
   "source": [
    "# Q4. Do registered or casual users take longer trips?"
   ]
  },
  {
   "cell_type": "code",
   "execution_count": 6,
   "id": "9e8f062c-499c-4f09-880f-e3cb292314ca",
   "metadata": {},
   "outputs": [
    {
     "data": {
      "text/plain": [
       "sub_type\n",
       "Casual        1519.643897\n",
       "Registered     657.026067\n",
       "Name: duration, dtype: float64"
      ]
     },
     "execution_count": 6,
     "metadata": {},
     "output_type": "execute_result"
    }
   ],
   "source": [
    "q4 = dft.groupby('sub_type')['duration'].agg('mean')\n",
    "q4"
   ]
  },
  {
   "cell_type": "markdown",
   "id": "4a03cb15-d2a6-4949-b2fc-2375dbfb15f8",
   "metadata": {},
   "source": [
    "# Q5. Which bike was used for the most trips?"
   ]
  },
  {
   "cell_type": "code",
   "execution_count": 7,
   "id": "b32a646c-e41b-443f-892a-347483389146",
   "metadata": {},
   "outputs": [
    {
     "data": {
      "text/plain": [
       "bike_number\n",
       "B00490    2120\n",
       "Name: id, dtype: int64"
      ]
     },
     "execution_count": 7,
     "metadata": {},
     "output_type": "execute_result"
    }
   ],
   "source": [
    "q5 = dft.groupby('bike_number')['id'].agg('count').sort_values(ascending=False)\n",
    "q5.head(1)"
   ]
  },
  {
   "cell_type": "markdown",
   "id": "f651fba3-2b70-40ee-8eef-cf8b5ecf157d",
   "metadata": {},
   "source": [
    "# Q6. What is the average duration of trips by users over the age of 30?"
   ]
  },
  {
   "cell_type": "code",
   "execution_count": 8,
   "id": "c98daebd-191d-4082-9cf1-ed0de5decc94",
   "metadata": {},
   "outputs": [
    {
     "data": {
      "text/plain": [
       "659.6764337335354"
      ]
     },
     "execution_count": 8,
     "metadata": {},
     "output_type": "execute_result"
    }
   ],
   "source": [
    "now = pd.to_datetime('now').year\n",
    "q6_0 = dft.copy()\n",
    "q6_0['age'] = now - q6_0['birth_date']\n",
    "q6 = q6_0[ (q6_0['sub_type'] == 'Registered') &  (q6_0['age'] > 30)]['duration'].agg('mean')\n",
    "q6"
   ]
  },
  {
   "cell_type": "markdown",
   "id": "3cc05826-253f-4146-8807-11912ffcd1e1",
   "metadata": {},
   "source": [
    "# Q7. Which stations are most frequently used for round trips?"
   ]
  },
  {
   "cell_type": "code",
   "execution_count": 9,
   "id": "d0ac749e-8de3-4c35-b74c-0d8181b8e175",
   "metadata": {},
   "outputs": [
    {
     "data": {
      "text/plain": [
       "station\n",
       "The Esplanade - Beacon St. at Arlington St.      3064\n",
       "Charles Circle - Charles St. at Cambridge St.    2739\n",
       "Boston Public Library - 700 Boylston St.         2548\n",
       "Boylston St. at Arlington St.                    2163\n",
       "Beacon St / Mass Ave                             2144\n",
       "Name: station, dtype: int64"
      ]
     },
     "execution_count": 9,
     "metadata": {},
     "output_type": "execute_result"
    }
   ],
   "source": [
    "q7 = dft.merge(dfs, left_on = 'start_station', right_on = 'id')\n",
    "q7 = q7[ q7['start_station'] == q7['end_station']].groupby('station')['station'].agg('count').sort_values(ascending = False)\n",
    "q7.head(5)"
   ]
  },
  {
   "cell_type": "markdown",
   "id": "aab229f3-5b1b-4e6d-82a8-351b5199d38f",
   "metadata": {},
   "source": [
    "# Q8. How many trips start and end in different municipalities? Station Table has the Municipality Attribute"
   ]
  },
  {
   "cell_type": "code",
   "execution_count": 10,
   "id": "e603cbed-32ac-4219-939d-4730a97439ee",
   "metadata": {},
   "outputs": [
    {
     "data": {
      "text/plain": [
       "309748"
      ]
     },
     "execution_count": 10,
     "metadata": {},
     "output_type": "execute_result"
    }
   ],
   "source": [
    "q8 = dft.merge(dfs, left_on = 'start_station', right_on = 'id')\n",
    "q8 = q8.merge(dfs, left_on = 'end_station', right_on = 'id')\n",
    "q8 = q8[ q8['municipality_x'] !=  q8['municipality_y']]['station_x'].agg('count')\n",
    "q8"
   ]
  },
  {
   "cell_type": "markdown",
   "id": "ef25856e-1b05-4308-8f76-03aacbd5b8e6",
   "metadata": {},
   "source": [
    "# Q9. How many trips incurred additional fees (lasted longer than 30 minutes)? "
   ]
  },
  {
   "cell_type": "code",
   "execution_count": 11,
   "id": "046c3966-f2b9-456b-94d6-0d7ce94d1759",
   "metadata": {},
   "outputs": [
    {
     "data": {
      "text/plain": [
       "123155"
      ]
     },
     "execution_count": 11,
     "metadata": {},
     "output_type": "execute_result"
    }
   ],
   "source": [
    "q9 = dft[ dft['duration']/60 > 30]['id'].agg('count')\n",
    "q9"
   ]
  },
  {
   "cell_type": "markdown",
   "id": "a32c60a5-e97f-4b65-808b-26ce4d724ec6",
   "metadata": {},
   "source": [
    "# Q10. Which bike was used for the longest total time? Provide the answer in Hours"
   ]
  },
  {
   "cell_type": "code",
   "execution_count": 12,
   "id": "7d590eca-c13b-4148-b4cf-e09e57c700a9",
   "metadata": {},
   "outputs": [
    {
     "data": {
      "text/plain": [
       "bike_number\n",
       "B00490    571.845278\n",
       "Name: duration, dtype: float64"
      ]
     },
     "execution_count": 12,
     "metadata": {},
     "output_type": "execute_result"
    }
   ],
   "source": [
    "q10 = dft.groupby('bike_number')['duration'].agg('sum').sort_values(ascending = False)\n",
    "#q10['duration'] = q10['duration']/ 3600\n",
    "(q10/3600).head(1)"
   ]
  },
  {
   "cell_type": "markdown",
   "id": "178be8f4-8fc8-4752-8717-f6637c4d6c87",
   "metadata": {},
   "source": [
    "# Q11. Did registered or casual users take more round trips? A Round Trip is considered as Same Start and End Destination"
   ]
  },
  {
   "cell_type": "code",
   "execution_count": 13,
   "id": "f37012cd-a4e6-435c-9684-886d7f9f480f",
   "metadata": {},
   "outputs": [
    {
     "data": {
      "text/plain": [
       "sub_type\n",
       "Casual        41427\n",
       "Registered    31635\n",
       "Name: id, dtype: int64"
      ]
     },
     "execution_count": 13,
     "metadata": {},
     "output_type": "execute_result"
    }
   ],
   "source": [
    "q11 = dft[ dft['start_station'] == dft['end_station'] ].groupby('sub_type')['id'].agg('count')\n",
    "q11"
   ]
  },
  {
   "cell_type": "markdown",
   "id": "7dac499b-6234-4115-a279-d0bec6743ab7",
   "metadata": {},
   "source": [
    "# Q12. Which municipality had the most frequent Station End?"
   ]
  },
  {
   "cell_type": "code",
   "execution_count": 14,
   "id": "5bb16ea3-02ee-4f45-a6c7-dd1ed8d97584",
   "metadata": {},
   "outputs": [
    {
     "data": {
      "text/plain": [
       "municipality\n",
       "Boston        1212364\n",
       "Brookline       20677\n",
       "Cambridge      297011\n",
       "Somerville      39921\n",
       "Name: id_x, dtype: int64"
      ]
     },
     "execution_count": 14,
     "metadata": {},
     "output_type": "execute_result"
    }
   ],
   "source": [
    "q12 = dft.merge(dfs, left_on = 'end_station', right_on = 'id')\n",
    "q12 = q12.groupby('municipality')['id_x'].agg('count')\n",
    "q12"
   ]
  },
  {
   "cell_type": "markdown",
   "id": "e2d6ad8c-9432-44d2-9ac8-dadf061d0c0a",
   "metadata": {},
   "source": [
    "# Q13. Which From and To Routes are Frequent with Regards to Municipalities?"
   ]
  },
  {
   "cell_type": "code",
   "execution_count": 15,
   "id": "f4d5ea76-b651-4ff1-a91b-669b4aa5eadd",
   "metadata": {},
   "outputs": [
    {
     "data": {
      "text/plain": [
       "municipality_x  municipality_y\n",
       "Boston          Boston            1081805\n",
       "Cambridge       Cambridge          162538\n",
       "Boston          Cambridge          110968\n",
       "Cambridge       Boston             110078\n",
       "                Somerville          20998\n",
       "Name: id_x, dtype: int64"
      ]
     },
     "execution_count": 15,
     "metadata": {},
     "output_type": "execute_result"
    }
   ],
   "source": [
    "q13 = dft.merge(dfs, left_on = 'start_station', right_on = 'id')\n",
    "q13 = q13.merge(dfs, left_on = 'end_station', right_on = 'id')\n",
    "q13 = q13.groupby(['municipality_x', 'municipality_y'])['id_x'].agg('count').sort_values(ascending = False)\n",
    "q13.head(5)"
   ]
  },
  {
   "cell_type": "markdown",
   "id": "d7157092-32ad-471f-8232-44ad8c52bb81",
   "metadata": {},
   "source": [
    "# Q14. Which Age Band has the most Rides? Calculate Age Bands based on interval of 10 and Cut Off by 70 or Above"
   ]
  },
  {
   "cell_type": "code",
   "execution_count": 16,
   "id": "39c3461c-6863-4a3a-978b-459fbf648ea8",
   "metadata": {},
   "outputs": [],
   "source": [
    "def age_band(x):\n",
    "    if x < 20:\n",
    "        return '0 - 19'\n",
    "    elif (x >= 20) and (x < 30):\n",
    "        return '20-29'\n",
    "    elif (x >= 30)  and (x< 40):\n",
    "        return '30-39'\n",
    "    elif (x >= 40) and (x < 50):\n",
    "        return '40-49'\n",
    "    elif (x >= 50) and (x < 60):\n",
    "        return '50-59'\n",
    "    elif (x >= 60) and (x < 70):\n",
    "        return '70-69'\n",
    "    elif (x >= 70) and (x < 130):\n",
    "        return '70+'\n",
    "    else:\n",
    "        return 'Age Not Mentioned'"
   ]
  },
  {
   "cell_type": "code",
   "execution_count": 17,
   "id": "6b54a362-3a8f-444b-8e61-b76b22e8669a",
   "metadata": {},
   "outputs": [
    {
     "data": {
      "text/plain": [
       "age_band\n",
       "Age Not Mentioned    1219985\n",
       "30-39                 127764\n",
       "40-49                 107600\n",
       "50-59                  60527\n",
       "70-69                  40883\n",
       "70+                    10338\n",
       "20-29                   2904\n",
       "Name: id, dtype: int64"
      ]
     },
     "execution_count": 17,
     "metadata": {},
     "output_type": "execute_result"
    }
   ],
   "source": [
    "q14_0 = dft.copy()\n",
    "now = pd.to_datetime('now').year\n",
    "q14_0['age'] = now - q14_0['birth_date']\n",
    "q14_0['age_band'] = q14_0['age'].map(age_band)\n",
    "q14 = q14_0.groupby('age_band')['id'].agg('count').sort_values(ascending = False)\n",
    "q14"
   ]
  },
  {
   "cell_type": "markdown",
   "id": "b52fab6b-7c08-4439-807c-5597ac84b548",
   "metadata": {},
   "source": [
    "# Q15. What Day of the Week is most Popular for Rides? What Time (24 Hrs Format) is Popular on that Particular Date?"
   ]
  },
  {
   "cell_type": "code",
   "execution_count": 18,
   "id": "b6a59a1a-cf6d-41a9-a524-98b4e37757df",
   "metadata": {},
   "outputs": [
    {
     "data": {
      "text/plain": [
       "day_of_week\n",
       "Wednesday    237957\n",
       "Thursday     233993\n",
       "Tuesday      230931\n",
       "Friday       230205\n",
       "Monday       229302\n",
       "Saturday     213708\n",
       "Sunday       193905\n",
       "Name: id, dtype: int64"
      ]
     },
     "execution_count": 18,
     "metadata": {},
     "output_type": "execute_result"
    }
   ],
   "source": [
    "q15 = dft.copy()\n",
    "q15['day_of_week'] = pd.DatetimeIndex(pd.to_datetime(q15['start_date'])).dayofweek\n",
    "q15 = q15.replace({'day_of_week': {0: 'Monday', 1: 'Tuesday', 2: 'Wednesday', 3: 'Thursday', 4: 'Friday', 5: 'Saturday', 6: 'Sunday'}})\n",
    "q15_1 = q15.groupby('day_of_week')['id'].agg('count').sort_values(ascending = False)\n",
    "q15_1"
   ]
  },
  {
   "cell_type": "code",
   "execution_count": 19,
   "id": "2598c491-0667-4778-8ccd-735bfbddd747",
   "metadata": {
    "tags": []
   },
   "outputs": [
    {
     "data": {
      "text/plain": [
       "['Wednesday',\n",
       " hour\n",
       " 17    29582\n",
       " Name: id, dtype: int64]"
      ]
     },
     "execution_count": 19,
     "metadata": {},
     "output_type": "execute_result"
    }
   ],
   "source": [
    "q15['hour'] = pd.DatetimeIndex(pd.to_datetime(q15['start_date'])).hour \n",
    "q15.head(5)\n",
    "q15_2 = q15[q15['day_of_week'] == q15_1.head(1).index[0]].groupby('hour')['id'].agg('count').sort_values(ascending = False)\n",
    "[q15_1.head(1).index[0], q15_2.head(1)]"
   ]
  },
  {
   "cell_type": "code",
   "execution_count": 20,
   "id": "cd382297-e06e-445b-8c1f-0bf78ea3ebe9",
   "metadata": {},
   "outputs": [],
   "source": [
    "#q15_3 = q15_1.head(1).index[0]\n",
    "#q15_3"
   ]
  }
 ],
 "metadata": {
  "kernelspec": {
   "display_name": "Python 3.9 (tensorflow)",
   "language": "python",
   "name": "tensorflow"
  },
  "language_info": {
   "codemirror_mode": {
    "name": "ipython",
    "version": 3
   },
   "file_extension": ".py",
   "mimetype": "text/x-python",
   "name": "python",
   "nbconvert_exporter": "python",
   "pygments_lexer": "ipython3",
   "version": "3.9.7"
  }
 },
 "nbformat": 4,
 "nbformat_minor": 5
}
