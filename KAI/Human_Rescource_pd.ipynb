{
 "cells": [
  {
   "cell_type": "code",
   "execution_count": 1,
   "id": "6222ba68-51ef-4bc0-9386-637601a5b13f",
   "metadata": {},
   "outputs": [],
   "source": [
    "import numpy as np\n",
    "import pandas as pd\n",
    "from matplotlib import pyplot as plt"
   ]
  },
  {
   "cell_type": "code",
   "execution_count": 2,
   "id": "fe3380a6-d61a-42c6-bd16-cf6194b20f24",
   "metadata": {},
   "outputs": [],
   "source": [
    "df = pd.read_csv('Human Resources.csv')"
   ]
  },
  {
   "cell_type": "code",
   "execution_count": 3,
   "id": "4ce09439-2d5b-480b-ba27-32fbd147aa4c",
   "metadata": {},
   "outputs": [
    {
     "data": {
      "text/html": [
       "<div>\n",
       "<style scoped>\n",
       "    .dataframe tbody tr th:only-of-type {\n",
       "        vertical-align: middle;\n",
       "    }\n",
       "\n",
       "    .dataframe tbody tr th {\n",
       "        vertical-align: top;\n",
       "    }\n",
       "\n",
       "    .dataframe thead th {\n",
       "        text-align: right;\n",
       "    }\n",
       "</style>\n",
       "<table border=\"1\" class=\"dataframe\">\n",
       "  <thead>\n",
       "    <tr style=\"text-align: right;\">\n",
       "      <th></th>\n",
       "      <th>id</th>\n",
       "      <th>first_name</th>\n",
       "      <th>last_name</th>\n",
       "      <th>birthdate</th>\n",
       "      <th>gender</th>\n",
       "      <th>race</th>\n",
       "      <th>department</th>\n",
       "      <th>jobtitle</th>\n",
       "      <th>location</th>\n",
       "      <th>hire_date</th>\n",
       "      <th>termdate</th>\n",
       "      <th>location_city</th>\n",
       "      <th>location_state</th>\n",
       "    </tr>\n",
       "  </thead>\n",
       "  <tbody>\n",
       "    <tr>\n",
       "      <th>0</th>\n",
       "      <td>00-0037846</td>\n",
       "      <td>Kimmy</td>\n",
       "      <td>Walczynski</td>\n",
       "      <td>6/4/1991</td>\n",
       "      <td>Male</td>\n",
       "      <td>Hispanic or Latino</td>\n",
       "      <td>Engineering</td>\n",
       "      <td>Programmer Analyst I</td>\n",
       "      <td>Headquarters</td>\n",
       "      <td>1/20/2002</td>\n",
       "      <td>NaN</td>\n",
       "      <td>Cleveland</td>\n",
       "      <td>Ohio</td>\n",
       "    </tr>\n",
       "    <tr>\n",
       "      <th>1</th>\n",
       "      <td>00-0041533</td>\n",
       "      <td>Ignatius</td>\n",
       "      <td>Springett</td>\n",
       "      <td>6/29/1984</td>\n",
       "      <td>Male</td>\n",
       "      <td>White</td>\n",
       "      <td>Business Development</td>\n",
       "      <td>Business Analyst</td>\n",
       "      <td>Headquarters</td>\n",
       "      <td>4/8/2019</td>\n",
       "      <td>NaN</td>\n",
       "      <td>Cleveland</td>\n",
       "      <td>Ohio</td>\n",
       "    </tr>\n",
       "    <tr>\n",
       "      <th>2</th>\n",
       "      <td>00-0045747</td>\n",
       "      <td>Corbie</td>\n",
       "      <td>Bittlestone</td>\n",
       "      <td>7/29/1989</td>\n",
       "      <td>Male</td>\n",
       "      <td>Black or African American</td>\n",
       "      <td>Sales</td>\n",
       "      <td>Solutions Engineer Manager</td>\n",
       "      <td>Headquarters</td>\n",
       "      <td>10/12/2010</td>\n",
       "      <td>NaN</td>\n",
       "      <td>Cleveland</td>\n",
       "      <td>Ohio</td>\n",
       "    </tr>\n",
       "  </tbody>\n",
       "</table>\n",
       "</div>"
      ],
      "text/plain": [
       "           id first_name    last_name  birthdate gender  \\\n",
       "0  00-0037846      Kimmy   Walczynski   6/4/1991   Male   \n",
       "1  00-0041533   Ignatius    Springett  6/29/1984   Male   \n",
       "2  00-0045747     Corbie  Bittlestone  7/29/1989   Male   \n",
       "\n",
       "                        race            department  \\\n",
       "0         Hispanic or Latino           Engineering   \n",
       "1                      White  Business Development   \n",
       "2  Black or African American                 Sales   \n",
       "\n",
       "                     jobtitle      location   hire_date termdate  \\\n",
       "0        Programmer Analyst I  Headquarters   1/20/2002      NaN   \n",
       "1            Business Analyst  Headquarters    4/8/2019      NaN   \n",
       "2  Solutions Engineer Manager  Headquarters  10/12/2010      NaN   \n",
       "\n",
       "  location_city location_state  \n",
       "0     Cleveland           Ohio  \n",
       "1     Cleveland           Ohio  \n",
       "2     Cleveland           Ohio  "
      ]
     },
     "execution_count": 3,
     "metadata": {},
     "output_type": "execute_result"
    }
   ],
   "source": [
    "df.head(3)"
   ]
  },
  {
   "cell_type": "markdown",
   "id": "dea54081-4d62-4713-8ee4-ccbc6b60a8c8",
   "metadata": {},
   "source": [
    "# Q1. How many employees are there in total?"
   ]
  },
  {
   "cell_type": "code",
   "execution_count": 4,
   "id": "cec49ecf-c271-41d3-b119-25c2ff91581c",
   "metadata": {},
   "outputs": [
    {
     "name": "stdout",
     "output_type": "stream",
     "text": [
      "Total Number of Employees are 22214\n"
     ]
    }
   ],
   "source": [
    "q1 = df['id'].count()\n",
    "print(f'Total Number of Employees are {q1}')"
   ]
  },
  {
   "cell_type": "markdown",
   "id": "eab7965b-dfb4-47a3-a84d-60b88ca456f6",
   "metadata": {},
   "source": [
    "# Q2. What department has the most employees?"
   ]
  },
  {
   "cell_type": "code",
   "execution_count": 5,
   "id": "16281211-d213-4999-9e49-0f52467972de",
   "metadata": {},
   "outputs": [
    {
     "data": {
      "text/plain": [
       "department\n",
       "Engineering    6686\n",
       "Name: id, dtype: int64"
      ]
     },
     "execution_count": 5,
     "metadata": {},
     "output_type": "execute_result"
    }
   ],
   "source": [
    "q2 = df.groupby('department')['id'].agg('count').sort_values(ascending= False).head(1)\n",
    "q2"
   ]
  },
  {
   "cell_type": "code",
   "execution_count": 6,
   "id": "e76a831d-fa37-4618-b75b-0d0d9fed29e9",
   "metadata": {},
   "outputs": [
    {
     "name": "stdout",
     "output_type": "stream",
     "text": [
      "Engineering 6686\n"
     ]
    }
   ],
   "source": [
    "q2_1 = df.groupby('department')['id'].agg('count').idxmax()\n",
    "q2_2 = df.groupby('department')['id'].agg('count').max()\n",
    "print(f'{q2_1} {q2_2}')"
   ]
  },
  {
   "cell_type": "markdown",
   "id": "b87c393d-1925-41f0-888f-6391ab7c9ebe",
   "metadata": {},
   "source": [
    "# Q3. How many Male & Female Staff are there in Company?"
   ]
  },
  {
   "cell_type": "code",
   "execution_count": 7,
   "id": "8d98288c-c6c2-4bfa-a300-4e29d91016a2",
   "metadata": {},
   "outputs": [
    {
     "data": {
      "text/plain": [
       "gender\n",
       "Female            10321\n",
       "Male              11288\n",
       "Non-Conforming      605\n",
       "Name: id, dtype: int64"
      ]
     },
     "execution_count": 7,
     "metadata": {},
     "output_type": "execute_result"
    }
   ],
   "source": [
    "q3 = df.groupby('gender')['id'].agg('count')\n",
    "q3"
   ]
  },
  {
   "cell_type": "markdown",
   "id": "abb89471-6589-4436-9158-2a87e9917d2a",
   "metadata": {},
   "source": [
    "# Q4. How many employees work remotely from Ohio?"
   ]
  },
  {
   "cell_type": "code",
   "execution_count": 8,
   "id": "f78878b0-ac7d-4fd8-be0e-d350b64847ad",
   "metadata": {
    "tags": []
   },
   "outputs": [
    {
     "data": {
      "text/plain": [
       "location\n",
       "Headquarters    16715\n",
       "Remote           5499\n",
       "Name: id, dtype: int64"
      ]
     },
     "execution_count": 8,
     "metadata": {},
     "output_type": "execute_result"
    }
   ],
   "source": [
    "q4_0 = df.groupby('location')['id'].agg('count')\n",
    "q4_0"
   ]
  },
  {
   "cell_type": "code",
   "execution_count": 9,
   "id": "bdd8d8fd-0e79-4d1c-821a-4036e768a47c",
   "metadata": {},
   "outputs": [
    {
     "name": "stdout",
     "output_type": "stream",
     "text": [
      "No. of people working remotely from Ohio are 1310\n"
     ]
    }
   ],
   "source": [
    "q4 = df[(df['location'] == 'Remote') & (df['location_state'] == 'Ohio')]['id'].agg('count')\n",
    "print(f'No. of people working remotely from Ohio are {q4}')"
   ]
  },
  {
   "cell_type": "markdown",
   "id": "6eba0704-de60-4329-b5a5-2282e39022e9",
   "metadata": {},
   "source": [
    "# Q5. How many Black people are in Sales Department working from Headquarters?"
   ]
  },
  {
   "cell_type": "code",
   "execution_count": 10,
   "id": "1ad25c2a-2d17-4ee4-a162-1e7ae779ad22",
   "metadata": {},
   "outputs": [
    {
     "data": {
      "text/plain": [
       "217"
      ]
     },
     "execution_count": 10,
     "metadata": {},
     "output_type": "execute_result"
    }
   ],
   "source": [
    "q5 = df[(df['race'].str.lower().str.contains('black', na= True)) & (df['location'] == 'Headquarters') & (df['department'] == 'Sales')]['id'].agg('count')\n",
    "q5"
   ]
  },
  {
   "cell_type": "markdown",
   "id": "076639c1-cdcb-4999-9cca-de6c66ebf800",
   "metadata": {},
   "source": [
    "# Q6. What is the Maximum and Minimum age of Employees?"
   ]
  },
  {
   "cell_type": "code",
   "execution_count": 11,
   "id": "9ed7d577-530a-4b49-86bd-9e645015c2e1",
   "metadata": {
    "tags": []
   },
   "outputs": [
    {
     "name": "stdout",
     "output_type": "stream",
     "text": [
      "max age = 57.0, min age = 20.0\n"
     ]
    }
   ],
   "source": [
    "q6_min = (pd.to_datetime('now').year - pd.DatetimeIndex(pd.to_datetime(df['birthdate'])).year).min()\n",
    "q6_max = (pd.to_datetime('now').year - pd.DatetimeIndex(pd.to_datetime(df['birthdate'])).year).max()\n",
    "print(f'max age = {q6_max}, min age = {q6_min}')"
   ]
  },
  {
   "cell_type": "code",
   "execution_count": 12,
   "id": "99f3cacc-06b7-43f9-bc31-de7cd2fa7d99",
   "metadata": {},
   "outputs": [
    {
     "data": {
      "text/plain": [
       "Float64Index([1991.0, 1984.0, 1989.0, 1982.0, 1994.0, 1971.0, 1979.0, 1988.0,\n",
       "              1996.0, 1980.0,\n",
       "              ...\n",
       "                 nan,    nan,    nan,    nan,    nan,    nan,    nan,    nan,\n",
       "                 nan,    nan],\n",
       "             dtype='float64', name='birthdate', length=37408)"
      ]
     },
     "execution_count": 12,
     "metadata": {},
     "output_type": "execute_result"
    }
   ],
   "source": [
    "pd.DatetimeIndex(pd.to_datetime(df['birthdate'])).year"
   ]
  },
  {
   "cell_type": "markdown",
   "id": "6c6de9f7-bc21-42f5-86e5-3b65ab1296c2",
   "metadata": {},
   "source": [
    "# Q7. How many employees are contractual? (If Term Date is not null then it is Permanent)"
   ]
  },
  {
   "cell_type": "code",
   "execution_count": 13,
   "id": "e4cff716-0079-4276-b8df-91bc0d7254e4",
   "metadata": {},
   "outputs": [
    {
     "name": "stdout",
     "output_type": "stream",
     "text": [
      "Contractual = 18285, Permanent = 3929\n"
     ]
    }
   ],
   "source": [
    "q7_c = df[df['termdate'].isnull()]['id'].agg('count')\n",
    "q7_p = df[~df['termdate'].isnull()]['id'].agg('count')\n",
    "\n",
    "print(f'Contractual = {q7_c}, Permanent = {q7_p}')"
   ]
  },
  {
   "cell_type": "markdown",
   "id": "e98fd32f-1603-43e7-8968-f43a3d10a0c8",
   "metadata": {},
   "source": [
    "# Q8. How many people were hired after 2015?"
   ]
  },
  {
   "cell_type": "code",
   "execution_count": 14,
   "id": "75fa1c55-a568-45aa-947a-e6f55a54e9ae",
   "metadata": {},
   "outputs": [
    {
     "data": {
      "text/plain": [
       "5455"
      ]
     },
     "execution_count": 14,
     "metadata": {},
     "output_type": "execute_result"
    }
   ],
   "source": [
    "q8 = df[ pd.DatetimeIndex(pd.to_datetime(df['hire_date'])).year > 2015 ]['id'].agg('count')\n",
    "q8"
   ]
  },
  {
   "cell_type": "markdown",
   "id": "7f5598a0-cc98-4b50-97fb-cef43e7711c0",
   "metadata": {},
   "source": [
    "# Q9. What is the average age of Employees summarized by Race?"
   ]
  },
  {
   "cell_type": "code",
   "execution_count": 15,
   "id": "4b2b66d4-e845-4e17-89ec-7da4f13f6606",
   "metadata": {},
   "outputs": [
    {
     "data": {
      "text/plain": [
       "race\n",
       "American Indian or Alaska Native             38.175584\n",
       "Asian                                        38.056148\n",
       "Black or African American                    38.243437\n",
       "Hispanic or Latino                           37.911236\n",
       "Native Hawaiian or Other Pacific Islander    37.816111\n",
       "Two or More Races                            38.142818\n",
       "White                                        38.365360\n",
       "Name: age, dtype: float64"
      ]
     },
     "execution_count": 15,
     "metadata": {},
     "output_type": "execute_result"
    }
   ],
   "source": [
    "q9_0 = df.copy()\n",
    "q9_0['age'] = pd.to_datetime('now').year - pd.DatetimeIndex(pd.to_datetime(df['birthdate'])).year\n",
    "q9_1 = q9_0.groupby('race')['age'].agg('mean')\n",
    "q9_1"
   ]
  },
  {
   "cell_type": "markdown",
   "id": "8386bc15-7b4c-4638-8f77-97b6133c947a",
   "metadata": {},
   "source": [
    "# Q10. What maximum tenure in years summarized by each department? Sort ascending so that we can know which department has been newly established relatively to other departments."
   ]
  },
  {
   "cell_type": "code",
   "execution_count": 16,
   "id": "831acc0f-4f4e-49a1-87b4-04e2e6fcf61f",
   "metadata": {},
   "outputs": [
    {
     "data": {
      "text/plain": [
       "department\n",
       "Accounting                  22.0\n",
       "Auditing                    22.0\n",
       "Business Development        22.0\n",
       "Engineering                 22.0\n",
       "Human Resources             22.0\n",
       "Legal                       22.0\n",
       "Marketing                   22.0\n",
       "Product Management          22.0\n",
       "Research and Development    22.0\n",
       "Sales                       22.0\n",
       "Services                    22.0\n",
       "Support                     22.0\n",
       "Training                    22.0\n",
       "Name: tenure, dtype: float64"
      ]
     },
     "execution_count": 16,
     "metadata": {},
     "output_type": "execute_result"
    }
   ],
   "source": [
    "q10_0 = df.copy()\n",
    "q10_0['tenure'] = pd.to_datetime('now').year - pd.DatetimeIndex(pd.to_datetime(df['hire_date'])).year\n",
    "q10_1 = q10_0.groupby('department')['tenure'].agg('max')\n",
    "q10_1"
   ]
  }
 ],
 "metadata": {
  "kernelspec": {
   "display_name": "Python 3.9 (tensorflow)",
   "language": "python",
   "name": "tensorflow"
  },
  "language_info": {
   "codemirror_mode": {
    "name": "ipython",
    "version": 3
   },
   "file_extension": ".py",
   "mimetype": "text/x-python",
   "name": "python",
   "nbconvert_exporter": "python",
   "pygments_lexer": "ipython3",
   "version": "3.9.7"
  }
 },
 "nbformat": 4,
 "nbformat_minor": 5
}
